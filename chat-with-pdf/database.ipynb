{
 "cells": [
  {
   "cell_type": "code",
   "execution_count": 1,
   "id": "167b86a8",
   "metadata": {},
   "outputs": [],
   "source": [
    "! pip install -q ipykernel"
   ]
  },
  {
   "cell_type": "code",
   "execution_count": 12,
   "id": "ff5a43a7",
   "metadata": {},
   "outputs": [],
   "source": [
    "import os\n",
    "from dotenv import load_dotenv\n",
    "\n",
    "\n",
    "from langchain_community.vectorstores import Cassandra\n",
    "from langchain.indexes.vectorstore import VectorStoreIndexWrapper\n",
    "from langchain_community.llms import OpenAI\n",
    "from langchain_openai import OpenAIEmbeddings\n",
    "from langchain_text_splitters import CharacterTextSplitter\n",
    "\n",
    "from datasets import load_dataset\n",
    "\n",
    "import cassio   # initialize DB connection\n",
    "\n",
    "from PyPDF2 import PdfReader\n",
    "from typing_extensions import Concatenate"
   ]
  },
  {
   "cell_type": "code",
   "execution_count": 9,
   "id": "228be2a5",
   "metadata": {},
   "outputs": [],
   "source": [
    "load_dotenv()\n",
    "\n",
    "ASTRADB_APP_TOKEN = os.getenv(\"ASTRA_DB_TOKEN\")\n",
    "ASTRADB_ID = os.getenv(\"ASTRA_DB_ID\")\n",
    "OPENAI_API_KEY = os.getenv(\"OPENAI_API_KEY\")"
   ]
  },
  {
   "cell_type": "code",
   "execution_count": 4,
   "id": "8e5f80e5",
   "metadata": {},
   "outputs": [],
   "source": [
    "pdfReader = PdfReader(\"dinosaurs.pdf\")"
   ]
  },
  {
   "cell_type": "code",
   "execution_count": 5,
   "id": "4fecfbec",
   "metadata": {},
   "outputs": [],
   "source": [
    "raw_text = \"\"\n",
    "for _, page in enumerate(pdfReader.pages):\n",
    "    content = page.extract_text()\n",
    "    if content:\n",
    "        raw_text += content"
   ]
  },
  {
   "cell_type": "code",
   "execution_count": 6,
   "id": "ecd46690",
   "metadata": {},
   "outputs": [
    {
     "data": {
      "text/plain": [
       "'BASIC DINOSAUR FACTS\\n•Dinosaurs are a group of reptiles that have lived \\non Earth for about 165 mill'"
      ]
     },
     "execution_count": 6,
     "metadata": {},
     "output_type": "execute_result"
    }
   ],
   "source": [
    "raw_text[:100]"
   ]
  },
  {
   "cell_type": "code",
   "execution_count": null,
   "id": "205685c9",
   "metadata": {},
   "outputs": [],
   "source": [
    "# initialize connection to database\n",
    "cassio.init(\n",
    "    token=ASTRADB_APP_TOKEN,\n",
    "    database_id=ASTRADB_ID\n",
    ")"
   ]
  },
  {
   "cell_type": "code",
   "execution_count": 10,
   "id": "aebe2b62",
   "metadata": {},
   "outputs": [
    {
     "name": "stderr",
     "output_type": "stream",
     "text": [
      "C:\\Users\\Zeynep\\AppData\\Local\\Temp\\ipykernel_21396\\761121860.py:3: LangChainDeprecationWarning: The class `OpenAI` was deprecated in LangChain 0.0.10 and will be removed in 1.0. An updated version of the class exists in the :class:`~langchain-openai package and should be used instead. To use it run `pip install -U :class:`~langchain-openai` and import as `from :class:`~langchain_openai import OpenAI``.\n",
      "  llm = OpenAI(openai_api_key=OPENAI_API_KEY)\n"
     ]
    }
   ],
   "source": [
    "# create LLM and embedding objects\n",
    "\n",
    "llm = OpenAI(openai_api_key=OPENAI_API_KEY)\n",
    "embed = OpenAIEmbeddings(openai_api_key=OPENAI_API_KEY)"
   ]
  },
  {
   "cell_type": "code",
   "execution_count": 14,
   "id": "18f7979a",
   "metadata": {},
   "outputs": [],
   "source": [
    "astra_vector_store = Cassandra(\n",
    "    embedding=embed,\n",
    "    table_name=\"dino_pdf_chat\",\n",
    "    session=None,\n",
    "    keyspace=None\n",
    ")"
   ]
  },
  {
   "cell_type": "code",
   "execution_count": 36,
   "id": "a58a4727",
   "metadata": {},
   "outputs": [],
   "source": [
    "# chunking the raw text\n",
    "\n",
    "text_splitter = CharacterTextSplitter(\n",
    "    separator=\"\\n\",\n",
    "    chunk_size=400,\n",
    "    chunk_overlap=100,\n",
    "    length_function=len\n",
    ")\n",
    "# splitting text into chunks, with a max character size of 100 \n",
    "\n",
    "texts = text_splitter.split_text(raw_text)"
   ]
  },
  {
   "cell_type": "code",
   "execution_count": 37,
   "id": "9d15e24e",
   "metadata": {},
   "outputs": [
    {
     "data": {
      "text/plain": [
       "105"
      ]
     },
     "execution_count": 37,
     "metadata": {},
     "output_type": "execute_result"
    }
   ],
   "source": [
    "len(texts)"
   ]
  },
  {
   "cell_type": "code",
   "execution_count": null,
   "id": "731bb8e3",
   "metadata": {},
   "outputs": [],
   "source": [
    "# load texts to database\n",
    "\n",
    "astra_vector_store.add_texts(texts)\n",
    "astra_vector_index = VectorStoreIndexWrapper(vectorstore=astra_vector_store)"
   ]
  },
  {
   "cell_type": "code",
   "execution_count": null,
   "id": "38f8ab1b",
   "metadata": {},
   "outputs": [
    {
     "name": "stdout",
     "output_type": "stream",
     "text": [
      "\n",
      "QUESTION: \"ask question (What is an OLORITAN)\"\n",
      "ANSWER: \"Olorotitan was a duckbilled dinosaur from the Late Cretaceous period, whose remains were found in far Eastern Russia. It was one of the last non-avian dinosaurs and went extinct. It grew up to 26 feet long and weighed 3.4 tons. Its name means \"helmet lizard\" and its skull, including the crest, was 28 inches tall.\"\n",
      "\n",
      "FIRST DOCUMENTS BY RELEVANCE:\n",
      "     [0.8897] \"America.\n",
      "Its name means \n",
      "\"helmet lizard.  \n",
      "It grew  to 30 feet long  \n",
      "and had a skul ...\"\n",
      "     [0.8745] \"The Cincinnatian layer is in the Ordovician period range \n",
      "and was here 451 to 443 MY ...\"\n",
      "     [0.8678] \"Bristol palaeo -biologist and fossil \n",
      "color expert, Dr Jakob Vinther . \n",
      "Analysis of  ...\"\n",
      "     [0.8651] \"The red line in each image shows the plane of the \n",
      "ankle hinge. \n",
      "THE CINCINNATIAN TI ...\"\n"
     ]
    }
   ],
   "source": [
    "# ask a question (What is an OLORITAN)\n",
    "\n",
    "first_question = True\n",
    "while True:\n",
    "    if first_question:\n",
    "        query_text = input(\"\\nEnter your question (or type quit to exit):\").strip()\n",
    "    else:\n",
    "        query_text = input(\"\\nWhat's your next question?\").strip()\n",
    "    \n",
    "    if query_text.lower() == \"quit\":\n",
    "        break\n",
    "    if query_text == \"\":\n",
    "        continue\n",
    "    first_question == False\n",
    "    \n",
    "    print(\"\\nQUESTION: \\\"%s\\\"\" % query_text)\n",
    "    answer = astra_vector_index.query(query_text, llm=llm).strip()\n",
    "    print(\"ANSWER: \\\"%s\\\"\\n\" % answer)\n",
    "    \n",
    "    k = 4\n",
    "    print(f\"FIRST {k} DOCUMENTS BY RELEVANCE:\") # first k vectors\n",
    "    for doc, score in astra_vector_store.similarity_search_with_score(query_text, k=k):\n",
    "        print(\"     [%0.4f] \\\"%s ...\\\"\" % (score, doc.page_content[:84]))\n",
    "    "
   ]
  },
  {
   "cell_type": "code",
   "execution_count": null,
   "id": "a5fc6212",
   "metadata": {},
   "outputs": [],
   "source": []
  }
 ],
 "metadata": {
  "kernelspec": {
   "display_name": "venv",
   "language": "python",
   "name": "python3"
  },
  "language_info": {
   "codemirror_mode": {
    "name": "ipython",
    "version": 3
   },
   "file_extension": ".py",
   "mimetype": "text/x-python",
   "name": "python",
   "nbconvert_exporter": "python",
   "pygments_lexer": "ipython3",
   "version": "3.11.5"
  }
 },
 "nbformat": 4,
 "nbformat_minor": 5
}
